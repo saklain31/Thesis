{
 "cells": [
  {
   "cell_type": "code",
   "execution_count": 1,
   "metadata": {},
   "outputs": [
    {
     "name": "stdout",
     "output_type": "stream",
     "text": [
      "[[20.000653 16.008143  8.770485 ... 23.27594  21.603313 13.468522]\n",
      " [19.540455 17.438957  8.990967 ... 23.01458  21.968106 13.742793]\n",
      " [18.940627 17.41331   9.396025 ... 22.788254 21.921892 13.772426]\n",
      " ...\n",
      " [18.141149 20.662345  5.249352 ... 20.610944 23.814913 15.090571]\n",
      " [17.871034 21.468738  5.98376  ... 20.558847 24.190584 15.134746]\n",
      " [18.589421 21.409892  6.006687 ... 20.927528 24.20962  15.542816]]\n",
      "72000\n",
      "<class 'numpy.ndarray'>\n",
      "Their indices are  89\n",
      "Their indices are  <class 'numpy.ndarray'>\n",
      "89\n",
      "zero\n",
      "Their indices are------  0\n",
      "5911.0\n"
     ]
    }
   ],
   "source": [
    "import numpy as np\n",
    "#np.set_printoptions(threshold=np.nan)\n",
    "\n",
    "file = open(\"/home/saklain/direction.txt\", \"r\") \n",
    "t=0\n",
    "mainlist=[]\n",
    "mylist = []\n",
    "\n",
    "cnt=0\n",
    "for line in file:\n",
    "    if(cnt==0):\n",
    "        line=float(line.replace(\"\\n\",\"\"))\n",
    "        mylist.append(line)\n",
    "    if(cnt==1):\n",
    "        line=float(line.replace(\"\\n\",\"\"))\n",
    "        mylist.append(line)\n",
    "    if(cnt==3):\n",
    "        line=float(line.replace(\"\\n\",\"\"))\n",
    "        mylist.append(line)\n",
    "    \n",
    "    t=t+1\n",
    "    cnt=cnt+1\n",
    "    if cnt==7:\n",
    "        cnt=0\n",
    "    if(t%28==0):\n",
    "        t=0\n",
    "        a=np.asarray(mylist)\n",
    "        mainlist.append(a)\n",
    "        #print(a)\n",
    "        mylist.clear()\n",
    "        #print(\"*******\")\n",
    "        \n",
    "data=np.asarray(mainlist)\n",
    "print(data)\n",
    "print(data.size)\n",
    "print(type(data))\n",
    "\n",
    "ar = np.nonzero(data == -156.535598)\n",
    "print(\"Their indices are \", np.unique(ar[0]).size)\n",
    "print(\"Their indices are \", type(ar[0]))\n",
    "print(np.unique(ar[0]).size)\n",
    "\n",
    "while np.nonzero(data == -156.535598):\n",
    "    arr = np.nonzero(data == -156.535598)\n",
    "    #print(np.unique(arr[0]).size)\n",
    "    if np.unique(arr[0]).size==0:\n",
    "        print(\"zero\")\n",
    "        break\n",
    "    data=np.delete(data, np.unique(arr[0])[0], 0)\n",
    "    #print(\"Their indices are------ \", np.unique(arr[0])[0])    \n",
    "\n",
    "    \n",
    "\n",
    "\n",
    "ar = np.nonzero(data == -156.535598)\n",
    "print(\"Their indices are------ \", np.unique(ar[0]).size)    \n",
    "print(data.size/12)"
   ]
  },
  {
   "cell_type": "code",
   "execution_count": 4,
   "metadata": {},
   "outputs": [],
   "source": [
    "from sklearn.cluster import KMeans\n",
    "import numpy as np\n",
    "np.set_printoptions(threshold=np.nan)\n",
    "\n",
    "kmeans = KMeans(n_clusters=2, random_state=0).fit(data)"
   ]
  },
  {
   "cell_type": "code",
   "execution_count": 16,
   "metadata": {},
   "outputs": [
    {
     "name": "stdout",
     "output_type": "stream",
     "text": [
      "141\n",
      "816\n"
     ]
    }
   ],
   "source": [
    "cnt=0\n",
    "for i in range(3000):\n",
    "    #print(kmeans.labels_[i])\n",
    "    if(kmeans.labels_[i]==1):\n",
    "        cnt=cnt+1\n",
    "\n",
    "print(cnt)\n",
    "\n",
    "cnt2=0\n",
    "for i in range(2911):\n",
    "    #print(kmeans.labels_[i])\n",
    "    if(kmeans.labels_[3000+i]==0):\n",
    "        cnt2=cnt2+1\n",
    "\n",
    "print(cnt2)\n",
    "#kmeans.cluster_centers_"
   ]
  },
  {
   "cell_type": "code",
   "execution_count": null,
   "metadata": {},
   "outputs": [],
   "source": []
  }
 ],
 "metadata": {
  "kernelspec": {
   "display_name": "Python 3",
   "language": "python",
   "name": "python3"
  },
  "language_info": {
   "codemirror_mode": {
    "name": "ipython",
    "version": 3
   },
   "file_extension": ".py",
   "mimetype": "text/x-python",
   "name": "python",
   "nbconvert_exporter": "python",
   "pygments_lexer": "ipython3",
   "version": "3.6.5"
  }
 },
 "nbformat": 4,
 "nbformat_minor": 2
}
