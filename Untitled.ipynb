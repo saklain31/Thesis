{
 "cells": [
  {
   "cell_type": "code",
   "execution_count": 2,
   "metadata": {},
   "outputs": [
    {
     "name": "stdout",
     "output_type": "stream",
     "text": [
      "100000.0\n",
      "<class 'numpy.ndarray'>\n",
      "Their indices are  489\n",
      "Their indices are  <class 'numpy.ndarray'>\n",
      "489\n",
      "zero\n",
      "Their indices are------  0\n",
      "99511.0\n"
     ]
    }
   ],
   "source": [
    "#TRAINING DATA\n",
    "import numpy as np\n",
    "file = open(\"/home/saklain/rad/door.txt\", \"r\") \n",
    "t=0\n",
    "mainlist=[]\n",
    "mylist = []\n",
    "k=-156.535598\n",
    "cnt=0\n",
    "for line in file:\n",
    "    if(cnt==0):\n",
    "        line=float(line.replace(\"\\n\",\"\"))\n",
    "        mylist.append(line)\n",
    "    if(cnt==1):\n",
    "        line=float(line.replace(\"\\n\",\"\"))\n",
    "        mylist.append(line)\n",
    "    if(cnt==3):\n",
    "        line=float(line.replace(\"\\n\",\"\"))\n",
    "        mylist.append(line)\n",
    "    \n",
    "    t=t+1\n",
    "    cnt=cnt+1\n",
    "    if cnt==7:\n",
    "        cnt=0\n",
    "    if(t%28==0):\n",
    "        t=0\n",
    "        a=np.asarray(mylist)\n",
    "        mainlist.append(a)\n",
    "        #print(a)\n",
    "        mylist.clear()\n",
    "        #print(\"*******\")\n",
    "        \n",
    "data=np.asarray(mainlist)\n",
    "#print(data)\n",
    "print(data.size/12)\n",
    "print(type(data))\n",
    "#data=np.delete(data, 3048, 0)\n",
    "#data=np.delete(data, 3568, 0)\n",
    "ar = np.nonzero(data == -156.535598)\n",
    "print(\"Their indices are \", np.unique(ar[0]).size)\n",
    "print(\"Their indices are \", type(ar[0]))\n",
    "print(np.unique(ar[0]).size)\n",
    "\n",
    "while np.nonzero(data == -156.535598):\n",
    "    arr = np.nonzero(data == -156.535598)\n",
    "    #print(np.unique(arr[0]).size)\n",
    "    if np.unique(arr[0]).size==0:\n",
    "        print(\"zero\")\n",
    "        break\n",
    "    data=np.delete(data, np.unique(arr[0])[0], 0)\n",
    "    #print(\"Their indices are------ \", np.unique(arr[0])[0])    \n",
    "\n",
    "    \n",
    "\n",
    "\n",
    "ar = np.nonzero(data == -156.535598)\n",
    "print(\"Their indices are------ \", np.unique(ar[0]).size)    \n",
    "print(data.size/12)\n",
    "\n",
    "\n"
   ]
  },
  {
   "cell_type": "code",
   "execution_count": 6,
   "metadata": {},
   "outputs": [
    {
     "data": {
      "text/plain": [
       "[[10, 1, 12], [2, 4, 5], [4, 6, 7]]"
      ]
     },
     "execution_count": 6,
     "metadata": {},
     "output_type": "execute_result"
    }
   ],
   "source": [
    "a= [[1,2,3],[4,5,6],[7,8,9],[10,1,12],[2,4,5],[4,6,7]]\n",
    "a[3:6]"
   ]
  }
 ],
 "metadata": {
  "kernelspec": {
   "display_name": "Python 3",
   "language": "python",
   "name": "python3"
  },
  "language_info": {
   "codemirror_mode": {
    "name": "ipython",
    "version": 3
   },
   "file_extension": ".py",
   "mimetype": "text/x-python",
   "name": "python",
   "nbconvert_exporter": "python",
   "pygments_lexer": "ipython3",
   "version": "3.6.5"
  }
 },
 "nbformat": 4,
 "nbformat_minor": 2
}
