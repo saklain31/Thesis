{
 "cells": [
  {
   "cell_type": "code",
   "execution_count": 60,
   "metadata": {},
   "outputs": [
    {
     "name": "stdout",
     "output_type": "stream",
     "text": [
      "100000.0\n",
      "<class 'numpy.ndarray'>\n",
      "Their indices are  1364\n",
      "Their indices are  <class 'numpy.ndarray'>\n",
      "1364\n",
      "zero\n",
      "Their indices are------  0\n",
      "98636.0\n"
     ]
    }
   ],
   "source": [
    "#TRAINING DATA\n",
    "import numpy as np\n",
    "file = open(\"/home/saklain/rad/balc.txt\", \"r\") \n",
    "t=0\n",
    "mainlist=[]\n",
    "mylist = []\n",
    "k=-156.535598\n",
    "cnt=0\n",
    "for line in file:\n",
    "    if(cnt==0):\n",
    "        line=float(line.replace(\"\\n\",\"\"))\n",
    "        mylist.append(line)\n",
    "    if(cnt==1):\n",
    "        line=float(line.replace(\"\\n\",\"\"))\n",
    "        mylist.append(line)\n",
    "    if(cnt==3):\n",
    "        line=float(line.replace(\"\\n\",\"\"))\n",
    "        mylist.append(line)\n",
    "    \n",
    "    t=t+1\n",
    "    cnt=cnt+1\n",
    "    if cnt==7:\n",
    "        cnt=0\n",
    "    if(t%28==0):\n",
    "        t=0\n",
    "        a=np.asarray(mylist)\n",
    "        mainlist.append(a)\n",
    "        #print(a)\n",
    "        mylist.clear()\n",
    "        #print(\"*******\")\n",
    "        \n",
    "data=np.asarray(mainlist)\n",
    "#print(data)\n",
    "print(data.size/12)\n",
    "print(type(data))\n",
    "#data=np.delete(data, 3048, 0)\n",
    "#data=np.delete(data, 3568, 0)\n",
    "ar = np.nonzero(data == -156.535598)\n",
    "print(\"Their indices are \", np.unique(ar[0]).size)\n",
    "print(\"Their indices are \", type(ar[0]))\n",
    "print(np.unique(ar[0]).size)\n",
    "\n",
    "while np.nonzero(data == -156.535598):\n",
    "    arr = np.nonzero(data == -156.535598)\n",
    "    #print(np.unique(arr[0]).size)\n",
    "    if np.unique(arr[0]).size==0:\n",
    "        print(\"zero\")\n",
    "        break\n",
    "    data=np.delete(data, np.unique(arr[0])[0], 0)\n",
    "    #print(\"Their indices are------ \", np.unique(arr[0])[0])    \n",
    "\n",
    "    \n",
    "\n",
    "\n",
    "ar = np.nonzero(data == -156.535598)\n",
    "print(\"Their indices are------ \", np.unique(ar[0]).size)    \n",
    "print(data.size/12)\n",
    "\n",
    "\n"
   ]
  },
  {
   "cell_type": "code",
   "execution_count": 36,
   "metadata": {},
   "outputs": [],
   "source": [
    "filenames = ['/home/saklain/rad/balc.txt','/home/saklain/rad/door.txt','/home/saklain/rad/midroom.txt']\n",
    "with open('/home/saklain/rad/traindata.txt', 'w') as outfile:\n",
    "    for fname in filenames:\n",
    "        with open(fname) as infile:\n",
    "            outfile.write(infile.read())"
   ]
  },
  {
   "cell_type": "code",
   "execution_count": 63,
   "metadata": {},
   "outputs": [
    {
     "name": "stdout",
     "output_type": "stream",
     "text": [
      "[[ 7.839827 18.593677  4.169149 ... 15.006199 22.493886 13.255091]\n",
      " [ 9.494929 20.803282  4.310922 ... 14.930078 23.816222 13.355334]\n",
      " [10.365546 21.642272  4.634742 ... 15.748691 24.289007 13.776883]\n",
      " ...\n",
      " [20.554249 18.57388  11.797091 ... 23.251001 20.868045 17.95352 ]\n",
      " [17.060326 15.42661   7.872376 ... 21.590985 20.233291 17.240152]\n",
      " [19.688239 17.789868  9.669624 ... 22.972672 21.340896 18.129271]]\n",
      "3600000\n",
      "<class 'numpy.ndarray'>\n",
      "Their indices are  (array([    80,     80,     80, ..., 221081, 221081, 221081]), array([ 1,  2,  4, ...,  8, 10, 11]))\n"
     ]
    }
   ],
   "source": [
    "#TRAINING DATA\n",
    "import numpy as np\n",
    "file = open(\"/home/saklain/rad/traindata.txt\", \"r\") \n",
    "t=0\n",
    "mainlist=[]\n",
    "mylist = []\n",
    "k=-156.535598\n",
    "cnt=0\n",
    "for line in file:\n",
    "    if(cnt==0):\n",
    "        line=float(line.replace(\"\\n\",\"\"))\n",
    "        mylist.append(line)\n",
    "    if(cnt==1):\n",
    "        line=float(line.replace(\"\\n\",\"\"))\n",
    "        mylist.append(line)\n",
    "    if(cnt==3):\n",
    "        line=float(line.replace(\"\\n\",\"\"))\n",
    "        mylist.append(line)\n",
    "    \n",
    "    t=t+1\n",
    "    cnt=cnt+1\n",
    "    if cnt==7:\n",
    "        cnt=0\n",
    "    if(t%28==0):\n",
    "        t=0\n",
    "        a=np.asarray(mylist)\n",
    "        mainlist.append(a)\n",
    "        #print(a)\n",
    "        mylist.clear()\n",
    "        #print(\"*******\")\n",
    "        \n",
    "data=np.asarray(mainlist)\n",
    "print(data)\n",
    "print(data.size)\n",
    "print(type(data))\n",
    "#data=np.delete(data, 3048, 0)\n",
    "#data=np.delete(data, 3568, 0)\n",
    "print(\"Their indices are \", np.nonzero(data == -156.535598))\n"
   ]
  },
  {
   "cell_type": "code",
   "execution_count": 65,
   "metadata": {},
   "outputs": [
    {
     "name": "stdout",
     "output_type": "stream",
     "text": [
      "300000.0\n",
      "<class 'numpy.ndarray'>\n",
      "Their indices are  2051\n"
     ]
    }
   ],
   "source": [
    "print(data.size/12)\n",
    "print(type(data))\n",
    "#data=np.delete(data, 3048, 0)\n",
    "#data=np.delete(data, 3568, 0)\n",
    "print(\"test1 err \", np.unique(np.nonzero(data == -156.535598)[0]).size)\n"
   ]
  },
  {
   "cell_type": "code",
   "execution_count": 82,
   "metadata": {},
   "outputs": [
    {
     "name": "stdout",
     "output_type": "stream",
     "text": [
      "300000.0\n",
      "100000.0\n",
      "100000.0\n",
      "100000.0\n",
      "15000.0\n",
      "85000.0\n",
      "15000.0\n",
      "85000.0\n",
      "15000.0\n",
      "85000.0\n"
     ]
    }
   ],
   "source": [
    "print(data.size/12)\n",
    "sp = np.split(data, 3)\n",
    "data1= sp[0]\n",
    "data2= sp[1]\n",
    "data3= sp[2]\n",
    "\n",
    "print(data1.size/12)\n",
    "#print(data1)\n",
    "print(data2.size/12)\n",
    "#print(data2)\n",
    "print(data3.size/12)\n",
    "\n",
    "test1 = data1[0:15000]\n",
    "print(test1.size/12)\n",
    "train1 = data1[15000:100000]\n",
    "print(train1.size/12)\n",
    "\n",
    "\n",
    "test2 = data2[0:15000]\n",
    "print(test2.size/12)\n",
    "train2 = data2[15000:100000]\n",
    "print(train2.size/12)\n",
    "\n",
    "test3 = data3[0:15000]\n",
    "print(test3.size/12)\n",
    "train3 = data3[15000:100000]\n",
    "print(train3.size/12)\n"
   ]
  },
  {
   "cell_type": "code",
   "execution_count": 86,
   "metadata": {},
   "outputs": [
    {
     "name": "stdout",
     "output_type": "stream",
     "text": [
      "test1 err  367\n",
      "train1 err  997\n",
      "test2 err  192\n",
      "train2 err  297\n",
      "test3 err  197\n",
      "train3 err  1\n",
      "test1 err  14633\n",
      "train1 err  84003\n",
      "test2 err  14808\n",
      "train2 err  84703\n",
      "test3 err  14803\n",
      "train3 err  84999\n"
     ]
    }
   ],
   "source": [
    "print(\"test1 err \", np.unique(np.nonzero(test1 == -156.535598)[0]).size)\n",
    "print(\"train1 err \", np.unique(np.nonzero(train1 == -156.535598)[0]).size)\n",
    "print(\"test2 err \", np.unique(np.nonzero(test2 == -156.535598)[0]).size)\n",
    "print(\"train2 err \", np.unique(np.nonzero(train2 == -156.535598)[0]).size)\n",
    "print(\"test3 err \", np.unique(np.nonzero(test3 == -156.535598)[0]).size)\n",
    "print(\"train3 err \", np.unique(np.nonzero(train3 == -156.535598)[0]).size)\n",
    "\n",
    "print(\"test1 err \", 15000-np.unique(np.nonzero(test1 == -156.535598)[0]).size)\n",
    "print(\"train1 err \", 85000-np.unique(np.nonzero(train1 == -156.535598)[0]).size)\n",
    "print(\"test2 err \", 15000-np.unique(np.nonzero(test2 == -156.535598)[0]).size)\n",
    "print(\"train2 err \", 85000-np.unique(np.nonzero(train2 == -156.535598)[0]).size)\n",
    "print(\"test3 err \", 15000-np.unique(np.nonzero(test3 == -156.535598)[0]).size)\n",
    "print(\"train3 err \", 85000-np.unique(np.nonzero(train3 == -156.535598)[0]).size)\n",
    "\n"
   ]
  },
  {
   "cell_type": "code",
   "execution_count": 45,
   "metadata": {},
   "outputs": [
    {
     "name": "stdout",
     "output_type": "stream",
     "text": [
      "[0 1 2 3 4 5 6 7 8 9]\n",
      "[2 3 4]\n"
     ]
    }
   ],
   "source": []
  },
  {
   "cell_type": "code",
   "execution_count": 87,
   "metadata": {},
   "outputs": [
    {
     "name": "stdout",
     "output_type": "stream",
     "text": [
      "zero\n",
      "zero\n",
      "zero\n",
      "zero\n",
      "zero\n",
      "zero\n",
      "14633.0\n",
      "84003.0\n",
      "14808.0\n",
      "84703.0\n",
      "14803.0\n",
      "84999.0\n"
     ]
    }
   ],
   "source": [
    "while np.nonzero(train1 == -156.535598):\n",
    "    arr = np.nonzero(train1 == -156.535598)\n",
    "    #print(np.unique(arr[0]).size)\n",
    "    if np.unique(arr[0]).size==0:\n",
    "        print(\"zero\")\n",
    "        break\n",
    "    train1=np.delete(train1, np.unique(arr[0])[0], 0)\n",
    "    \n",
    "\n",
    "    \n",
    "while np.nonzero(train2 == -156.535598):\n",
    "    arr = np.nonzero(train2 == -156.535598)\n",
    "    #print(np.unique(arr[0]).size)\n",
    "    if np.unique(arr[0]).size==0:\n",
    "        print(\"zero\")\n",
    "        break\n",
    "    train2=np.delete(train2, np.unique(arr[0])[0], 0)\n",
    "    \n",
    "    \n",
    "while np.nonzero(train3 == -156.535598):\n",
    "    arr = np.nonzero(train3 == -156.535598)\n",
    "    #print(np.unique(arr[0]).size)\n",
    "    if np.unique(arr[0]).size==0:\n",
    "        print(\"zero\")\n",
    "        break\n",
    "    train3=np.delete(train3, np.unique(arr[0])[0], 0)\n",
    "    \n",
    "while np.nonzero(test1 == -156.535598):\n",
    "    arr = np.nonzero(test1 == -156.535598)\n",
    "    #print(np.unique(arr[0]).size)\n",
    "    if np.unique(arr[0]).size==0:\n",
    "        print(\"zero\")\n",
    "        break\n",
    "    test1=np.delete(test1, np.unique(arr[0])[0], 0)\n",
    "\n",
    "while np.nonzero(test2 == -156.535598):\n",
    "    arr = np.nonzero(test2 == -156.535598)\n",
    "    #print(np.unique(arr[0]).size)\n",
    "    if np.unique(arr[0]).size==0:\n",
    "        print(\"zero\")\n",
    "        break\n",
    "    test2=np.delete(test2, np.unique(arr[0])[0], 0)\n",
    "\n",
    "while np.nonzero(test3 == -156.535598):\n",
    "    arr = np.nonzero(test3 == -156.535598)\n",
    "    #print(np.unique(arr[0]).size)\n",
    "    if np.unique(arr[0]).size==0:\n",
    "        print(\"zero\")\n",
    "        break\n",
    "    test3=np.delete(test3, np.unique(arr[0])[0], 0)\n"
   ]
  },
  {
   "cell_type": "code",
   "execution_count": 89,
   "metadata": {},
   "outputs": [
    {
     "name": "stdout",
     "output_type": "stream",
     "text": [
      "14633.0\n",
      "84003.0\n",
      "14808.0\n",
      "84703.0\n",
      "14803.0\n",
      "84999.0\n"
     ]
    },
    {
     "ename": "TypeError",
     "evalue": "only integer scalar arrays can be converted to a scalar index",
     "output_type": "error",
     "traceback": [
      "\u001b[0;31m---------------------------------------------------------------------------\u001b[0m",
      "\u001b[0;31mTypeError\u001b[0m                                 Traceback (most recent call last)",
      "\u001b[0;32m<ipython-input-89-9e05938adeb7>\u001b[0m in \u001b[0;36m<module>\u001b[0;34m()\u001b[0m\n\u001b[1;32m      9\u001b[0m \u001b[0mprint\u001b[0m\u001b[0;34m(\u001b[0m\u001b[0mtrain3\u001b[0m\u001b[0;34m.\u001b[0m\u001b[0msize\u001b[0m\u001b[0;34m/\u001b[0m\u001b[0;36m12\u001b[0m\u001b[0;34m)\u001b[0m\u001b[0;34m\u001b[0m\u001b[0m\n\u001b[1;32m     10\u001b[0m \u001b[0;34m\u001b[0m\u001b[0m\n\u001b[0;32m---> 11\u001b[0;31m \u001b[0mtrainset\u001b[0m \u001b[0;34m=\u001b[0m \u001b[0mnp\u001b[0m\u001b[0;34m.\u001b[0m\u001b[0mappend\u001b[0m\u001b[0;34m(\u001b[0m\u001b[0mtrain1\u001b[0m\u001b[0;34m,\u001b[0m\u001b[0mtrain2\u001b[0m\u001b[0;34m,\u001b[0m\u001b[0mtrain3\u001b[0m\u001b[0;34m)\u001b[0m\u001b[0;34m\u001b[0m\u001b[0m\n\u001b[0m\u001b[1;32m     12\u001b[0m \u001b[0mtestset\u001b[0m \u001b[0;34m=\u001b[0m \u001b[0mnp\u001b[0m\u001b[0;34m.\u001b[0m\u001b[0mappend\u001b[0m\u001b[0;34m(\u001b[0m\u001b[0mtest1\u001b[0m\u001b[0;34m,\u001b[0m\u001b[0mtest2\u001b[0m\u001b[0;34m,\u001b[0m\u001b[0mtest3\u001b[0m\u001b[0;34m)\u001b[0m\u001b[0;34m\u001b[0m\u001b[0m\n\u001b[1;32m     13\u001b[0m \u001b[0;34m\u001b[0m\u001b[0m\n",
      "\u001b[0;32m~/anaconda3/lib/python3.6/site-packages/numpy/lib/function_base.py\u001b[0m in \u001b[0;36mappend\u001b[0;34m(arr, values, axis)\u001b[0m\n\u001b[1;32m   5164\u001b[0m         \u001b[0mvalues\u001b[0m \u001b[0;34m=\u001b[0m \u001b[0mravel\u001b[0m\u001b[0;34m(\u001b[0m\u001b[0mvalues\u001b[0m\u001b[0;34m)\u001b[0m\u001b[0;34m\u001b[0m\u001b[0m\n\u001b[1;32m   5165\u001b[0m         \u001b[0maxis\u001b[0m \u001b[0;34m=\u001b[0m \u001b[0marr\u001b[0m\u001b[0;34m.\u001b[0m\u001b[0mndim\u001b[0m\u001b[0;34m-\u001b[0m\u001b[0;36m1\u001b[0m\u001b[0;34m\u001b[0m\u001b[0m\n\u001b[0;32m-> 5166\u001b[0;31m     \u001b[0;32mreturn\u001b[0m \u001b[0mconcatenate\u001b[0m\u001b[0;34m(\u001b[0m\u001b[0;34m(\u001b[0m\u001b[0marr\u001b[0m\u001b[0;34m,\u001b[0m \u001b[0mvalues\u001b[0m\u001b[0;34m)\u001b[0m\u001b[0;34m,\u001b[0m \u001b[0maxis\u001b[0m\u001b[0;34m=\u001b[0m\u001b[0maxis\u001b[0m\u001b[0;34m)\u001b[0m\u001b[0;34m\u001b[0m\u001b[0m\n\u001b[0m",
      "\u001b[0;31mTypeError\u001b[0m: only integer scalar arrays can be converted to a scalar index"
     ]
    }
   ],
   "source": [
    "print(test1.size/12)\n",
    "print(train1.size/12)\n",
    "\n",
    "\n",
    "print(test2.size/12)\n",
    "print(train2.size/12)\n",
    "\n",
    "print(test3.size/12)\n",
    "print(train3.size/12)\n",
    "\n",
    "trainset = np.append(train1,train2,train3)\n",
    "testset = np.append(test1,test2,test3)\n",
    "\n",
    "print(trainset.size/12)\n",
    "print(testset.size/12)\n"
   ]
  },
  {
   "cell_type": "code",
   "execution_count": null,
   "metadata": {},
   "outputs": [],
   "source": []
  }
 ],
 "metadata": {
  "kernelspec": {
   "display_name": "Python 3",
   "language": "python",
   "name": "python3"
  },
  "language_info": {
   "codemirror_mode": {
    "name": "ipython",
    "version": 3
   },
   "file_extension": ".py",
   "mimetype": "text/x-python",
   "name": "python",
   "nbconvert_exporter": "python",
   "pygments_lexer": "ipython3",
   "version": "3.6.5"
  }
 },
 "nbformat": 4,
 "nbformat_minor": 2
}
